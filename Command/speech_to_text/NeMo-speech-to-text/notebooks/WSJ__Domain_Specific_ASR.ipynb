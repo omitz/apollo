{
 "cells": [
  {
   "cell_type": "markdown",
   "metadata": {},
   "source": [
    "# Domain Specific ASR: Wall Street Journal (WSJ) use case\n",
    "\n",
    "In this notebook we exemplify the end-to-end workflow of ASR domain adaptation using the `Domain Specific NeMo ASR application`. We start with an acoustic model pre-trained on open-source English datasets **[LibriSpeech](http://www.openslr.org/12)** and [English - Mozilla Common Voice](https://voice.mozilla.org/en/datasets) and fine-tune with **Wall Street Journal (WSJ)** news dataset. Next, to further improve domain performance, we train language model based on prefix beam search [KenLM]( https://github.com/kpu/kenlm) which imposes a language model constraint on the new predicted character based on previous (most probable) prefixes. The language Model we train is the [Baidu’s CTC decoder with N-Gram LM implementation](https://github.com/PaddlePaddle/DeepSpeech).\n",
    "\n",
    "Through this example case, we show we can easily do transfer learning or domain adaptation from [relatively old] fiction books (LibriSpeech) to [relatively modern] business news (WSJ).\n",
    "\n",
    "The steps followed in this notebook are:\n",
    "1. Preparations: Download Pre-trained model, Create Project and Datasets preparation\n",
    "2. Train (fine-tune) Acoustic Model\n",
    "3. Train Language Model\n",
    "4. Inference with Pre-trained and Fine-tuned models\n",
    "5. Compare models\n",
    "6. Export model for deployment"
   ]
  },
  {
   "cell_type": "code",
   "execution_count": 1,
   "metadata": {},
   "outputs": [
    {
     "name": "stdout",
     "output_type": "stream",
     "text": [
      "/data\n"
     ]
    }
   ],
   "source": [
    "# set directory to save results to\n",
    "import os\n",
    "if os.environ.get(\"DATA_DIR\") == None:\n",
    "    os.environ[\"DATA_DIR\"] = \"/data\"\n",
    "data_dir = os.environ.get(\"DATA_DIR\")\n",
    "print(data_dir)\n",
    "\n",
    "# required imports\n",
    "%load_ext autoreload\n",
    "%autoreload 2\n",
    "\n",
    "import pandas as pd\n",
    "import numpy as np\n",
    "from easydict import EasyDict as edict\n",
    "\n",
    "from tools.System.config import cfg\n",
    "from tools.System.reader import Reader\n",
    "from tools.System.nemo_fns import get_onnx_cmd, get_onnx_trt_cmd\n",
    "from tools.filetools import file_exists\n",
    "from tools.misc import create_lm_dataset, parse_manifest_wer, barplot_manifest, get_transcript, get_gtruth"
   ]
  },
  {
   "cell_type": "markdown",
   "metadata": {},
   "source": [
    "# 1. Preparations"
   ]
  },
  {
   "cell_type": "markdown",
   "metadata": {},
   "source": [
    "## 1.1 Download Pre-trained model from NGC\n",
    "**The pre-trained model is already provided inside the container for you and loaded into the project's manifest by default.**\n",
    "\n",
    "Download pre-trained model from NGC. There exists multiple pre-trained models in [NGC](https://ngc.nvidia.com/catalog/models?orderBy=modifiedDESC&query=nemo&quickFilter=models&filters=), select the pre-trained Jasper or QuartzNet model of your preference. \n",
    "\n",
    "In this example we use:\n",
    "### LibriSpeech and Common Voice QuartzNet 15x5 for NeMo\n",
    "https://ngc.nvidia.com/catalog/models/nvidia:quartznet15x5\n",
    "\n",
    "QuarzNet is a Jasper-like network which uses separable convolutions and larger filter sizes. It has comparable accuracy to Jasper while having much fewer parameters. This particular model has 15 blocks each repeated 5 times.\n",
    "\n",
    "QuartzNet15x5 Encoder and Decoder neural module's checkpoints available here are trained using Neural Modules (NeMo) toolkit. NVIDIA’s Apex/Amp O1 optimization level was used for training on 8xV100 GPUs. These modules were trained using LibriSpeech (+-10% speed perturbation) and Mozilla's EN Common Voice \"validated\" set. \n",
    "\n",
    "Steps:\n",
    "- Download pre-trained model from NGC\n",
    "- unzip model inside the example_data directory\n",
    "\n",
    "Other pre-trained models:\n",
    "### Multidataset QuartzNet 15x5 for NeMo\n",
    "https://ngc.nvidia.com/catalog/models/nvidia:multidataset_quartznet15x5"
   ]
  },
  {
   "cell_type": "markdown",
   "metadata": {},
   "source": [
    "## 1.2 Create a new project\n",
    "\n",
    "We create a project that will keep track of the datasets, configurations and models created across the acoustic model and language model workflows.\n",
    "Everything related to a project is saved in disc in a manifest that can be access through its `project_id`.\n",
    "\n",
    "At the start of the project, the manifest is pre-populated with the baseline acoustic model - a model pretrained on LibriSpeech and using greedy decoder."
   ]
  },
  {
   "cell_type": "code",
   "execution_count": 2,
   "metadata": {},
   "outputs": [
    {
     "name": "stdout",
     "output_type": "stream",
     "text": [
      "Training config file: /data/results/config_files/WSJ-test_acoustic_quartznet15x5.yaml\n",
      "Inference config file: /data/results/config_files/WSJ-test_acoustic_quartznet15x5.yaml\n",
      "Manifest is saved /data/results/manifests/WSJ-test_manifest.json \n",
      "\n"
     ]
    }
   ],
   "source": [
    "project_id = 'WSJ-test'\n",
    "\n",
    "project = Reader.new(project_id)\n",
    "#project.manifest"
   ]
  },
  {
   "cell_type": "markdown",
   "metadata": {},
   "source": [
    "## 1.3 Datasets"
   ]
  },
  {
   "cell_type": "markdown",
   "metadata": {},
   "source": [
    "### 1.3.1 Acoustic Dataset\n",
    "\n",
    "In this example use-case, we fine-tune the pre-trained acoustic and language models with Wall Street Journal news datasets. \n",
    "\n",
    "This dataset is part of the Linguistic Data Consortium and can be found here:\n",
    "- CSR-I (WSJ0) Complete: https://catalog.ldc.upenn.edu/LDC93S6A\n",
    "- CSR-II (WSJ1) Complete: https://catalog.ldc.upenn.edu/LDC94S13A\n",
    "\n",
    "Note: To download this dataset a license is required please refer to [LDC to learn more](https://www.ldc.upenn.edu/language-resources/data/obtaining). \n",
    "\n",
    "### Create NeMo ready - Acoustic Model Dataset\n",
    "NeMo requires datasets to be in the format of:\n",
    "- `wav` audio clips with sampling rate (16000) and max clip duration (16.5) specified by the [configuration file](/tools/NeMo/example_configs/quartznet15x5.yaml).\n",
    "- The dataset format as a `json` file where each entry has the keys: `audio_filepath`, `duration` and `text`.\n",
    "\n",
    "You can see the script used to create NeMo datasets from common_voice datasets in `tools/NeMo/create_common_voice_dataset.py`. This script can help you correctly format your audio clips and json training dataset. As well, you must normalize the text, i.e. lowercase text, remove punctuations and change digits to text representation. We provide utility functions inside the tools folder, e.g. `tools/transcript_tools.py`, that can help you with dataset preparation.\n",
    "\n",
    "After you create your dataset, make sure that the pre-processed dataset has the correct paths to the audio files. You can use the following commands to check and fix the paths.\n",
    "\n",
    "**Best practice: To obtain a better performing model you can use speed-perturbation (+-10%) to augment your dataset. To do this you can use tools like sox.**"
   ]
  },
  {
   "cell_type": "code",
   "execution_count": 3,
   "metadata": {},
   "outputs": [
    {
     "name": "stdout",
     "output_type": "stream",
     "text": [
      "{\"audio_filepath\": \"/data/wsj/csr_2_comp/13-1.1/wsj1/si_tr_s/460/460c0201.wav\", \"duration\": 7.178375, \"text\": \"earlier this week defense secretary caspar weinberger told reporters at a breakfast meeting that the b one's problems weren't serious\"}\n"
     ]
    }
   ],
   "source": [
    "# check audio_filepath exists\n",
    "!head -n1 /data/datasets/wsj-train-si284-speed-0.9-1.1.json\n",
    "#!head -n1 /data/datasets/wsj-eval-92.json\n",
    "#!head -n1 /data/datasets/wsj-dev-93.json"
   ]
  },
  {
   "cell_type": "code",
   "execution_count": 4,
   "metadata": {},
   "outputs": [],
   "source": [
    "assert file_exists(\"/data/wsj/csr_2_comp/13-1.1/wsj1/si_tr_s/460/460c0201.wav\"), \"file does not exist.\""
   ]
  },
  {
   "cell_type": "code",
   "execution_count": 5,
   "metadata": {},
   "outputs": [],
   "source": [
    "# If incorrect path replace this path with the correct path inside the container:\n",
    "#!sed -i 's,/data/example_data,,g' /data/datasets/wsj-train-si284-speed-0.9-1.1.json\n",
    "#!sed -i 's,/data/example_data,,g' /data/datasets/wsj-eval-92.json\n",
    "#!sed -i 's,/data/example_data,,g' /data/datasets/wsj-dev-93.json"
   ]
  },
  {
   "cell_type": "code",
   "execution_count": 6,
   "metadata": {},
   "outputs": [],
   "source": [
    "# confirm change\n",
    "#!head -n1 /data/datasets/wsj-train-si284-speed-0.9-1.1.json\n",
    "#!head -n1 /data/datasets/wsj-eval-92.json\n",
    "#!head -n1 /data/datasets/wsj-dev-93.json"
   ]
  },
  {
   "cell_type": "markdown",
   "metadata": {},
   "source": [
    "### 1.3.2 Language Model dataset\n",
    "You can create a languague model dataset from the transcripts (labels) of your acoustic training dataset. You can use the function below."
   ]
  },
  {
   "cell_type": "code",
   "execution_count": 7,
   "metadata": {},
   "outputs": [],
   "source": [
    "#data_lm = os.path.join(\"datasets\", \"wsj-train-si284.json\") # input acoustic dataset\n",
    "#train_lm = os.path.join(\"datasets\", \"wsj-lm-train-si284.txt\") # name of output lm dataset\n",
    "#create_lm_dataset(data_lm, train_lm)"
   ]
  },
  {
   "cell_type": "markdown",
   "metadata": {},
   "source": [
    "# 2. Train Acoustic Model - Transfer Learning with NeMo\n",
    "In the next steps we finetune a baseline model with our own data.\n",
    "\n",
    "The steps are: \n",
    "1. Add pre-processed dataset to project\n",
    "2. Adjust training parameters\n",
    "3. Generate training command\n",
    "4. Perform Training "
   ]
  },
  {
   "cell_type": "markdown",
   "metadata": {},
   "source": [
    "## 2.1. Add Training Datasets to the Project \n",
    "To train an acoustic model you require a pre-processed `json` training dataset.\n",
    "NeMo expects the dataset as a `json` file where each entry has the keys: `audio_filepath`, `duration` and `text`.\n",
    "\n",
    "**Here is where you can add your own domain specific acoustic dataset.**"
   ]
  },
  {
   "cell_type": "code",
   "execution_count": 8,
   "metadata": {},
   "outputs": [
    {
     "data": {
      "text/plain": [
       "{'train_dataset_name': 'WSJ-wsj-train-speed',\n",
       " 'train_dataset': '/data/datasets/wsj-train-si284-speed-0.9-1.1.json',\n",
       " 'finetuned_model_path': None,\n",
       " 'train_cmd': None,\n",
       " 'infer_cmd': None,\n",
       " 'train_params': {'num_gpus': 1,\n",
       "  'batch_size': 16,\n",
       "  'num_epochs': 1,\n",
       "  'lr': None,\n",
       "  'warmup_steps': None,\n",
       "  'weight_decay': None,\n",
       "  'model_config': '/data/results/config_files/WSJ-test_acoustic_quartznet15x5.yaml',\n",
       "  'optimizer': 'novograd',\n",
       "  'amp_opt_level': 'O1',\n",
       "  'beta1': None,\n",
       "  'beta2': None,\n",
       "  'finetune': True,\n",
       "  'load_encoder': '/tmp/nemo_asr_app/models/quartznet15x5/JasperEncoder-STEP-247400.pt',\n",
       "  'load_decoder': '/tmp/nemo_asr_app/models/quartznet15x5/JasperDecoderForCTC-STEP-247400.pt',\n",
       "  'work_dir': '/data/results/models/acoustic_models/WSJ-test'}}"
      ]
     },
     "execution_count": 8,
     "metadata": {},
     "output_type": "execute_result"
    }
   ],
   "source": [
    "# train dataset\n",
    "train_json = \"/data/datasets/wsj-train-si284-speed-0.9-1.1.json\"\n",
    "assert file_exists(train_json), \"Train dataset file does NOT exist.\"\n",
    "\n",
    "project.add_dataset(train_json, \"WSJ-wsj-train-speed\", dataset_type=\"am-train\")\n",
    "project.manifest.am"
   ]
  },
  {
   "cell_type": "markdown",
   "metadata": {},
   "source": [
    "## 2.2 Modify acoustic model training parameters\n",
    "The default training parameters are specified in the project manifest, training script and the configuration file  `[DATA_DIR]/results/config_files/]PROJCECT]_acoustic_quartznet15x5.yaml`. However, you can modify some of these parameters as follows.\n",
    "\n",
    "To see the full list of parameters accessible by the manifest see `project.manifest.am.train_params`, to see other parameters look at the NeMo training script at `/tools/NeMo/jasper_train.py`.\n",
    "\n",
    "Important Notes:\n",
    "- The parameter `amp_opt_level` set to O1 or above, enables NVIDIA's [Automatic Mixed Precision for Deep Learning](https://developer.nvidia.com/automatic-mixed-precision).\n",
    "- To enable finetuning you must set the parameter `finetuning` to \"True\" and set the path to the `pre-trained encoder and decoder` to the parameters `load_encoder` and `load_decoder` respectively. Note, the finetuning and pre-trained encoder and decoders are already added at the start of the project."
   ]
  },
  {
   "cell_type": "code",
   "execution_count": 9,
   "metadata": {},
   "outputs": [
    {
     "data": {
      "text/plain": [
       "{'train_dataset_name': 'WSJ-wsj-train-speed',\n",
       " 'train_dataset': '/data/datasets/wsj-train-si284-speed-0.9-1.1.json',\n",
       " 'finetuned_model_path': None,\n",
       " 'train_cmd': None,\n",
       " 'infer_cmd': None,\n",
       " 'train_params': {'num_gpus': 4,\n",
       "  'batch_size': 32,\n",
       "  'num_epochs': 1,\n",
       "  'lr': 0.0001,\n",
       "  'warmup_steps': 0,\n",
       "  'weight_decay': None,\n",
       "  'model_config': '/data/results/config_files/WSJ-test_acoustic_quartznet15x5.yaml',\n",
       "  'optimizer': 'novograd',\n",
       "  'amp_opt_level': 'O1',\n",
       "  'beta1': None,\n",
       "  'beta2': None,\n",
       "  'finetune': True,\n",
       "  'load_encoder': '/tmp/nemo_asr_app/models/quartznet15x5/JasperEncoder-STEP-247400.pt',\n",
       "  'load_decoder': '/tmp/nemo_asr_app/models/quartznet15x5/JasperDecoderForCTC-STEP-247400.pt',\n",
       "  'work_dir': '/data/results/models/acoustic_models/WSJ-test'}}"
      ]
     },
     "execution_count": 9,
     "metadata": {},
     "output_type": "execute_result"
    }
   ],
   "source": [
    "# set training parameters \n",
    "project.set_am_batch_size(32)\n",
    "project.set_am_num_gpus(4)\n",
    "project.set_am_learning_rate(0.0001)\n",
    "project.manifest.am.train_params.warmup_steps = 0 \n",
    "#project.manifest.am.train_params.weight_decay = 0.0001\n",
    "project.manifest.am.train_params.amp_opt_level = 'O1'\n",
    "\n",
    "# If your dataset has 200+ Hrs of audio you can fine-tune for less epochs, e.g. 100.\n",
    "#project.set_am_num_epochs(100)\n",
    "project.set_am_num_epochs(1)\n",
    "\n",
    "# novograd\n",
    "#project.manifest.am.train_params.beta1 = 0.95\n",
    "#project.manifest.am.train_params.beta2 = 0.25 \n",
    "\n",
    "# To modify the path to config file and the pretrained model\n",
    "#project.load_am_config_file(config_file='')\n",
    "#project.set_am_pretrained_model(model='')\n",
    "\n",
    "project.save_manifest()\n",
    "project.manifest.am"
   ]
  },
  {
   "cell_type": "markdown",
   "metadata": {},
   "source": [
    "## 2.3 Generate Training Command\n",
    "Next we generate the acoustic model training command, where we use the settings specified in the manifest to create the appropriate command."
   ]
  },
  {
   "cell_type": "code",
   "execution_count": 10,
   "metadata": {},
   "outputs": [
    {
     "name": "stdout",
     "output_type": "stream",
     "text": [
      "! python -m torch.distributed.launch --nproc_per_node=4 /tmp/nemo_asr_app/tools/NeMo/jasper_train.py --batch_size=32 --num_epochs=1 --lr=0.0001 --model_config=/data/results/config_files/WSJ-test_acoustic_quartznet15x5.yaml --optimizer=novograd --amp_opt_level=O1 --finetune --load_encoder=/tmp/nemo_asr_app/models/quartznet15x5/JasperEncoder-STEP-247400.pt --load_decoder=/tmp/nemo_asr_app/models/quartznet15x5/JasperDecoderForCTC-STEP-247400.pt --work_dir=/data/results/models/acoustic_models/WSJ-test --exp_name=WSJ-test_finetuning --train_dataset=/data/datasets/wsj-train-si284-speed-0.9-1.1.json\n"
     ]
    }
   ],
   "source": [
    "am_training_cmd = project.get_am_train_cmd()\n",
    "print(\"! \"+ am_training_cmd)"
   ]
  },
  {
   "cell_type": "markdown",
   "metadata": {},
   "source": [
    "## 2.4 Finetune Pretrained Jasper Model\n",
    "Now that we have the training command that reflects our project settings, we can perform acoustic model training. Note, acoustic model training can take a long time so it is better to run training directly from the terminal of the container, using the command generated."
   ]
  },
  {
   "cell_type": "markdown",
   "metadata": {},
   "source": [
    "Note, if you completed the training before, you'll have checkpoints saved in the working directory.  We'll need to remove these to restart training. "
   ]
  },
  {
   "cell_type": "code",
   "execution_count": 11,
   "metadata": {},
   "outputs": [],
   "source": [
    "# clean log directory to re-run the training command\n",
    "# project.clean_am_workdir()"
   ]
  },
  {
   "cell_type": "markdown",
   "metadata": {},
   "source": [
    "# 3. Train a Language Model\n",
    "\n",
    "Up to now, the transcript the ASR system generates is through an “end-to-end” [CTC-based network]( https://www.cs.toronto.edu/~graves/icml_2006.pdf) which matches audio and text without additional alignment information. However, ambiguities in the transcription, for example when collapsing repeated characters and removing blanks, can exist as the CTC-based network has little prior linguistic knowledge. This is where a language model comes in, as it can help solve those decoding ambiguities.\n",
    "\n",
    "Specifically, the decoder output or transcript, when introducing a language model, is dependent on both the CTC network (softmax) output and the language model prediction. The language model we use is based on prefix beam search [KenLM]( https://github.com/kpu/kenlm) which imposes a language model constraint on the new predicted character based on previous (most probable) prefixes. To learn more see [First-Pass Large Vocabulary Continuous Speech Recognition using Bi-Directional Recurrent DNNs](https://arxiv.org/pdf/1408.2873.pdf).\n",
    "\n",
    "In this notebook we train the [Baidu’s CTC decoder with N-Gram LM implementation](https://github.com/PaddlePaddle/DeepSpeech).\n",
    "\n",
    "The steps are: 1. Add pre-processed dataset to project, 2. Edit training parameters 3. Generate training command and perform training."
   ]
  },
  {
   "cell_type": "markdown",
   "metadata": {},
   "source": [
    "## 3.1 Add LM Dataset to project\n",
    "\n",
    "To train a language model you require the pre-processed training text as a single column (per sentence) saved as a .txt file. **Here is where you can add your own domain specific dataset.**"
   ]
  },
  {
   "cell_type": "code",
   "execution_count": 12,
   "metadata": {},
   "outputs": [
    {
     "data": {
      "text/plain": [
       "{'train_dataset_name': 'LM-train',\n",
       " 'train_dataset': '/data/datasets/wsj-lm-data-small.txt',\n",
       " 'ngram': 6,\n",
       " 'finetuned_model': '/data/results/models/language_models/WSJ-test_lm.binary',\n",
       " 'train_cmd': None,\n",
       " 'infer_cmd': None}"
      ]
     },
     "execution_count": 12,
     "metadata": {},
     "output_type": "execute_result"
    }
   ],
   "source": [
    "train_lm =  \"/data/datasets/wsj-lm-data-small.txt\"\n",
    "assert file_exists(train_lm), \"Train dataset file does not exist.\"\n",
    "\n",
    "project.add_dataset(train_lm, \"LM-train\", dataset_type=\"lm-train\")\n",
    "project.manifest.lm"
   ]
  },
  {
   "cell_type": "markdown",
   "metadata": {},
   "source": [
    "## 3.2 Edit Training Parameters\n",
    "We first edit language model training parameters. Here the only parameter to edit is the length of the sequence of words `(N)` used by the N-gram model."
   ]
  },
  {
   "cell_type": "code",
   "execution_count": 13,
   "metadata": {},
   "outputs": [
    {
     "data": {
      "text/plain": [
       "{'train_dataset_name': 'LM-train',\n",
       " 'train_dataset': '/data/datasets/wsj-lm-data-small.txt',\n",
       " 'ngram': 6,\n",
       " 'finetuned_model': '/data/results/models/language_models/WSJ-test_lm.binary',\n",
       " 'train_cmd': None,\n",
       " 'infer_cmd': None}"
      ]
     },
     "execution_count": 13,
     "metadata": {},
     "output_type": "execute_result"
    }
   ],
   "source": [
    "# edit parameters\n",
    "project.set_n_gram(6) # number of words for N-Gram\n",
    "project.manifest.lm"
   ]
  },
  {
   "cell_type": "markdown",
   "metadata": {},
   "source": [
    "## 3.3 Training Language Model\n",
    "The following function will generate the language model training command for our dataset. You can run this command directly in this notebook or in the container terminal."
   ]
  },
  {
   "cell_type": "code",
   "execution_count": 14,
   "metadata": {},
   "outputs": [
    {
     "name": "stdout",
     "output_type": "stream",
     "text": [
      "! python /tmp/nemo_asr_app/tools/NeMo/build_lm.py /data/datasets/wsj-lm-data-small.txt --n=6 --project_id=WSJ-test\n"
     ]
    }
   ],
   "source": [
    "lm_train_cmd = project.get_lm_train_cmd()\n",
    "print (\"! \" + lm_train_cmd)"
   ]
  },
  {
   "cell_type": "code",
   "execution_count": 15,
   "metadata": {},
   "outputs": [],
   "source": [
    "# clean log directory to re-run the training \n",
    "#project.clean_lm_logdir()"
   ]
  },
  {
   "cell_type": "markdown",
   "metadata": {},
   "source": [
    "# 4. Inference with Pre-trained and Fine-tuned Models\n",
    "Next, we perform inference with both the pre-trained and fine-tuned models.\n",
    "\n",
    "The steps are: \n",
    "1. Add pre-processed evaluation datasets to project\n",
    "2. Inference using: Pre-trained model (Greedy Decoder)\n",
    "3. Inference using: Finetuned acoustic model (Greedy Decoder)\n",
    "4. Inference using: Finetuned acoustic model with added Language model\n",
    "\n",
    "At each inference case, we follow 3 steps: 1) Adjust inference parameters 2) Generate inference command 3) Perform inference"
   ]
  },
  {
   "cell_type": "markdown",
   "metadata": {},
   "source": [
    "## 4.1. Add Inference Evaluation Datasets to the Project \n",
    "To perform inference you require a preprocessed `json` dataset, with the columns: `audio_filepath`, `duration` and `text`."
   ]
  },
  {
   "cell_type": "code",
   "execution_count": 16,
   "metadata": {},
   "outputs": [
    {
     "name": "stdout",
     "output_type": "stream",
     "text": [
      "['wsj-eval']\n",
      "['/data/datasets/wsj-eval-92.json']\n"
     ]
    }
   ],
   "source": [
    "# add inference dataset\n",
    "eval_json=\"/data/datasets/wsj-eval-92.json\"\n",
    "#eval_json=\"data/datasets/wsj-dev-93.json\"\n",
    "assert file_exists(eval_json), \"Evaluation dataset file does not exist.\"\n",
    "\n",
    "project.add_dataset(eval_json, \"wsj-eval\", dataset_type=\"eval\")\n",
    "\n",
    "# Becuase we already added the evaluation dataset to project when doing the AM workflow we don't need to do it again\n",
    "print(project.manifest.eval_dataset_names)\n",
    "print(project.manifest.eval_datasets)"
   ]
  },
  {
   "cell_type": "markdown",
   "metadata": {},
   "source": [
    "## 4.2 Inference with Pre-trained model"
   ]
  },
  {
   "cell_type": "markdown",
   "metadata": {
    "toc-hr-collapsed": false
   },
   "source": [
    "### 4.2.1 Modify inference parameters\n",
    "The default inference parameters are specified in the project manifest, inference script and the configuration file. However, you can modify some of these parameters as follows.\n",
    "\n",
    "To see the full list of parameters accessible by the manifest see `project.manifest.inference_params`, to see other parameters look at the NeMo inference script at `/tools/NeMo/jasper_infer.py`.\n",
    "\n",
    "Important Notes:\n",
    "- The parameter `amp_opt_level` set to O1 or above, enables NVIDIA's [Automatic Mixed Precision for Deep Learning](https://developer.nvidia.com/automatic-mixed-precision).\n",
    "\n",
    "- When `lm_path` is set to \"None\", the system will use a `greedy decoder`, and thus the language model parametrs `beam_width`, `alpha`, `beta` will not be used."
   ]
  },
  {
   "cell_type": "code",
   "execution_count": 17,
   "metadata": {},
   "outputs": [
    {
     "data": {
      "text/plain": [
       "{'load_dir': '/tmp/nemo_asr_app/models/quartznet15x5',\n",
       " 'model_config': '/data/results/config_files/WSJ-test_acoustic_quartznet15x5.yaml',\n",
       " 'batch_size': 32,\n",
       " 'amp_opt_level': 'O1',\n",
       " 'save_results': '/data/results/inferences/WSJ-test',\n",
       " 'lm_path': None,\n",
       " 'beam_width': None,\n",
       " 'alpha': None,\n",
       " 'beta': None}"
      ]
     },
     "execution_count": 17,
     "metadata": {},
     "output_type": "execute_result"
    }
   ],
   "source": [
    "# pre-trained model already loaded from the models folder\n",
    "project.manifest.inference_params.batch_size = 32\n",
    "project.manifest.inference_params.amp_opt_level = 'O1'\n",
    "\n",
    "project.save_manifest()\n",
    "project.manifest.inference_params"
   ]
  },
  {
   "cell_type": "markdown",
   "metadata": {},
   "source": [
    "### 4.2.2 Generate Inference Command: Pre-trained Model\n",
    "We generate the inference command using the manifest configurations and define a name to identify the model we use."
   ]
  },
  {
   "cell_type": "code",
   "execution_count": 18,
   "metadata": {},
   "outputs": [
    {
     "name": "stdout",
     "output_type": "stream",
     "text": [
      "! python /tmp/nemo_asr_app/tools/NeMo/jasper_eval.py --load_dir=/tmp/nemo_asr_app/models/quartznet15x5 --model_config=/data/results/config_files/WSJ-test_acoustic_quartznet15x5.yaml --batch_size=32 --amp_opt_level=O1 --save_results=/data/results/inferences/WSJ-test --eval_datasets=/data/datasets/wsj-eval-92.json --model_id=Pretrained-greedy_decoder\n"
     ]
    }
   ],
   "source": [
    "# Model Id - We use this to identify the results of this model\n",
    "model_id = \"Pretrained-greedy_decoder\"\n",
    "\n",
    "# Inference with Pre-trained model\n",
    "am_infer_cmd = project.get_inference_cmd(model_id=model_id)\n",
    "print(\"! \"+ am_infer_cmd)"
   ]
  },
  {
   "cell_type": "markdown",
   "metadata": {},
   "source": [
    "### 4.2.3 Run Inference with Pre-trained Model\n",
    "To run inference, copy the command generated above and paste below."
   ]
  },
  {
   "cell_type": "code",
   "execution_count": 19,
   "metadata": {},
   "outputs": [
    {
     "name": "stdout",
     "output_type": "stream",
     "text": [
      "/opt/conda/lib/python3.6/site-packages/nemo/collections/asr/audio_preprocessing.py:48: UserWarning: Could not import torchaudio. Some features might not work.\n",
      "  warnings.warn('Could not import torchaudio. Some features might not work.')\n",
      "[NeMo I 2020-04-09 22:22:35 collections:138] Dataset loaded with 333 files totalling 0.71 hours\n",
      "[NeMo I 2020-04-09 22:22:35 collections:139] 0 files were filtered totalling 0.00 hours\n",
      "[NeMo I 2020-04-09 22:22:35 jasper_eval:109] Evaluating 333 examples\n",
      "[NeMo I 2020-04-09 22:22:35 features:144] PADDING: 16\n",
      "[NeMo I 2020-04-09 22:22:35 features:152] STFT using conv\n",
      "[NeMo I 2020-04-09 22:22:37 jasper_eval:122] ================================\n",
      "[NeMo I 2020-04-09 22:22:37 jasper_eval:124] Number of parameters in encoder: 18894656\n",
      "[NeMo I 2020-04-09 22:22:37 jasper_eval:126] Number of parameters in decoder: 29725\n",
      "[NeMo I 2020-04-09 22:22:37 jasper_eval:128] Total number of parameters: 18924381\n",
      "[NeMo I 2020-04-09 22:22:37 jasper_eval:130] ================================\n",
      "[NeMo I 2020-04-09 22:22:37 actions:1454] Restoring JasperEncoder from /tmp/nemo_asr_app/models/quartznet15x5/JasperEncoder-STEP-247400.pt\n",
      "[NeMo I 2020-04-09 22:22:38 actions:1454] Restoring JasperDecoderForCTC from /tmp/nemo_asr_app/models/quartznet15x5/JasperDecoderForCTC-STEP-247400.pt\n",
      "Selected optimization level O1:  Insert automatic casts around Pytorch functions and Tensor methods.\n",
      "\n",
      "Defaults for this optimization level are:\n",
      "enabled                : True\n",
      "opt_level              : O1\n",
      "cast_model_type        : None\n",
      "patch_torch_functions  : True\n",
      "keep_batchnorm_fp32    : None\n",
      "master_weights         : None\n",
      "loss_scale             : dynamic\n",
      "Processing user overrides (additional kwargs that are not None)...\n",
      "After processing overrides, optimization options are:\n",
      "enabled                : True\n",
      "opt_level              : O1\n",
      "cast_model_type        : None\n",
      "patch_torch_functions  : True\n",
      "keep_batchnorm_fp32    : None\n",
      "master_weights         : None\n",
      "loss_scale             : dynamic\n",
      "[NeMo I 2020-04-09 22:22:38 actions:728] Evaluating batch 0 out of 11\n",
      "[NeMo I 2020-04-09 22:22:39 actions:728] Evaluating batch 1 out of 11\n",
      "[NeMo I 2020-04-09 22:22:40 actions:728] Evaluating batch 2 out of 11\n",
      "[NeMo I 2020-04-09 22:22:40 actions:728] Evaluating batch 3 out of 11\n",
      "[NeMo I 2020-04-09 22:22:40 actions:728] Evaluating batch 4 out of 11\n",
      "[NeMo I 2020-04-09 22:22:40 actions:728] Evaluating batch 5 out of 11\n",
      "[NeMo I 2020-04-09 22:22:41 actions:728] Evaluating batch 6 out of 11\n",
      "[NeMo I 2020-04-09 22:22:41 actions:728] Evaluating batch 7 out of 11\n",
      "[NeMo I 2020-04-09 22:22:41 actions:728] Evaluating batch 8 out of 11\n",
      "[NeMo I 2020-04-09 22:22:42 actions:728] Evaluating batch 9 out of 11\n",
      "[NeMo I 2020-04-09 22:22:42 actions:728] Evaluating batch 10 out of 11\n",
      "[NeMo I 2020-04-09 22:22:42 jasper_eval:158] Greedy WER 10.01%\n",
      "[NeMo I 2020-04-09 22:22:42 jasper_eval:241] Saving inference results to /data/results/inferences/WSJ-test/results-am_grid__wsj-eval-92__Pretrained-greedy_decoder.json\n"
     ]
    }
   ],
   "source": [
    "! python /tmp/nemo_asr_app/tools/NeMo/jasper_eval.py --load_dir=/tmp/nemo_asr_app/models/quartznet15x5 --model_config=/data/results/config_files/WSJ-test_acoustic_quartznet15x5.yaml --batch_size=32 --amp_opt_level=O1 --save_results=/data/results/inferences/WSJ-test --eval_datasets=/data/datasets/wsj-eval-92.json --model_id=Pretrained-greedy_decoder"
   ]
  },
  {
   "cell_type": "markdown",
   "metadata": {},
   "source": [
    "## 4.3 Inference with Finetuned model (Greedy Decoder)"
   ]
  },
  {
   "cell_type": "markdown",
   "metadata": {
    "toc-hr-collapsed": false
   },
   "source": [
    "### 4.3.1 Modify inference parameters\n",
    "To use the fintuned acoustic model you **must** modify:\n",
    "- The `project.manifest.inference_params.load_dir` to use the fine-tuned model not the default pretrained model.\n",
    "    - The path to the finetuned model can be found at `project.manifest.am.finetuned_model_path`"
   ]
  },
  {
   "cell_type": "code",
   "execution_count": 20,
   "metadata": {},
   "outputs": [
    {
     "data": {
      "text/plain": [
       "{'load_dir': '/tmp/nemo_asr_app/models/wsj_finetuned',\n",
       " 'model_config': '/data/results/config_files/WSJ-test_acoustic_quartznet15x5.yaml',\n",
       " 'batch_size': 32,\n",
       " 'amp_opt_level': 'O1',\n",
       " 'save_results': '/data/results/inferences/WSJ-test',\n",
       " 'lm_path': None,\n",
       " 'beam_width': None,\n",
       " 'alpha': None,\n",
       " 'beta': None}"
      ]
     },
     "execution_count": 20,
     "metadata": {},
     "output_type": "execute_result"
    }
   ],
   "source": [
    "# Inference with Fintuned model\n",
    "# We provide the finetuned model inside the models folder\n",
    "project.manifest.inference_params.load_dir = os.path.join(os.environ['APP_DIR'], 'models', 'wsj_finetuned') \n",
    "# But if you fintuned the model, the path is available in project.manifest.am.finetuned_model_path\n",
    "#project.manifest.inference_params.load_dir = project.manifest.am.finetuned_model_path\n",
    "\n",
    "project.manifest.inference_params.amp_opt_level = 'O1'\n",
    "\n",
    "project.save_manifest()\n",
    "project.manifest.inference_params"
   ]
  },
  {
   "cell_type": "markdown",
   "metadata": {},
   "source": [
    "### 4.3.2 Generate Inference Command\n",
    "We generate the inference command using the manifest configurations."
   ]
  },
  {
   "cell_type": "code",
   "execution_count": 21,
   "metadata": {},
   "outputs": [
    {
     "name": "stdout",
     "output_type": "stream",
     "text": [
      "! python /tmp/nemo_asr_app/tools/NeMo/jasper_eval.py --load_dir=/tmp/nemo_asr_app/models/wsj_finetuned --model_config=/data/results/config_files/WSJ-test_acoustic_quartznet15x5.yaml --batch_size=32 --amp_opt_level=O1 --save_results=/data/results/inferences/WSJ-test --eval_datasets=/data/datasets/wsj-eval-92.json --model_id=Finetuned_WSJ-greedy_decoder\n"
     ]
    }
   ],
   "source": [
    "# Model Id - We use this to identify the results of this model\n",
    "model_id = \"Finetuned_WSJ-greedy_decoder\"\n",
    "\n",
    "# Inference with Fine-tuned model\n",
    "am_infer_cmd = project.get_inference_cmd(model_id=model_id)\n",
    "print(\"! \"+ am_infer_cmd)"
   ]
  },
  {
   "cell_type": "markdown",
   "metadata": {},
   "source": [
    "### 4.3.3 Run Inference with Fine-tuned Model\n",
    "To run inference, copy the command generated above and paste below."
   ]
  },
  {
   "cell_type": "code",
   "execution_count": 22,
   "metadata": {},
   "outputs": [
    {
     "name": "stdout",
     "output_type": "stream",
     "text": [
      "/opt/conda/lib/python3.6/site-packages/nemo/collections/asr/audio_preprocessing.py:48: UserWarning: Could not import torchaudio. Some features might not work.\n",
      "  warnings.warn('Could not import torchaudio. Some features might not work.')\n",
      "[NeMo I 2020-04-09 22:22:46 collections:138] Dataset loaded with 333 files totalling 0.71 hours\n",
      "[NeMo I 2020-04-09 22:22:46 collections:139] 0 files were filtered totalling 0.00 hours\n",
      "[NeMo I 2020-04-09 22:22:46 jasper_eval:109] Evaluating 333 examples\n",
      "[NeMo I 2020-04-09 22:22:46 features:144] PADDING: 16\n",
      "[NeMo I 2020-04-09 22:22:46 features:152] STFT using conv\n",
      "[NeMo I 2020-04-09 22:22:49 jasper_eval:122] ================================\n",
      "[NeMo I 2020-04-09 22:22:49 jasper_eval:124] Number of parameters in encoder: 18894656\n",
      "[NeMo I 2020-04-09 22:22:49 jasper_eval:126] Number of parameters in decoder: 29725\n",
      "[NeMo I 2020-04-09 22:22:49 jasper_eval:128] Total number of parameters: 18924381\n",
      "[NeMo I 2020-04-09 22:22:49 jasper_eval:130] ================================\n",
      "[NeMo I 2020-04-09 22:22:49 actions:1454] Restoring JasperEncoder from /tmp/nemo_asr_app/models/wsj_finetuned/JasperEncoder-STEP-174000.pt\n",
      "[NeMo I 2020-04-09 22:22:49 actions:1454] Restoring JasperDecoderForCTC from /tmp/nemo_asr_app/models/wsj_finetuned/JasperDecoderForCTC-STEP-174000.pt\n",
      "Selected optimization level O1:  Insert automatic casts around Pytorch functions and Tensor methods.\n",
      "\n",
      "Defaults for this optimization level are:\n",
      "enabled                : True\n",
      "opt_level              : O1\n",
      "cast_model_type        : None\n",
      "patch_torch_functions  : True\n",
      "keep_batchnorm_fp32    : None\n",
      "master_weights         : None\n",
      "loss_scale             : dynamic\n",
      "Processing user overrides (additional kwargs that are not None)...\n",
      "After processing overrides, optimization options are:\n",
      "enabled                : True\n",
      "opt_level              : O1\n",
      "cast_model_type        : None\n",
      "patch_torch_functions  : True\n",
      "keep_batchnorm_fp32    : None\n",
      "master_weights         : None\n",
      "loss_scale             : dynamic\n",
      "[NeMo I 2020-04-09 22:22:49 actions:728] Evaluating batch 0 out of 11\n",
      "[NeMo I 2020-04-09 22:22:51 actions:728] Evaluating batch 1 out of 11\n",
      "[NeMo I 2020-04-09 22:22:51 actions:728] Evaluating batch 2 out of 11\n",
      "[NeMo I 2020-04-09 22:22:51 actions:728] Evaluating batch 3 out of 11\n",
      "[NeMo I 2020-04-09 22:22:52 actions:728] Evaluating batch 4 out of 11\n",
      "[NeMo I 2020-04-09 22:22:52 actions:728] Evaluating batch 5 out of 11\n",
      "[NeMo I 2020-04-09 22:22:52 actions:728] Evaluating batch 6 out of 11\n",
      "[NeMo I 2020-04-09 22:22:52 actions:728] Evaluating batch 7 out of 11\n",
      "[NeMo I 2020-04-09 22:22:53 actions:728] Evaluating batch 8 out of 11\n",
      "[NeMo I 2020-04-09 22:22:53 actions:728] Evaluating batch 9 out of 11\n",
      "[NeMo I 2020-04-09 22:22:53 actions:728] Evaluating batch 10 out of 11\n",
      "[NeMo I 2020-04-09 22:22:54 jasper_eval:158] Greedy WER 4.52%\n",
      "[NeMo I 2020-04-09 22:22:54 jasper_eval:241] Saving inference results to /data/results/inferences/WSJ-test/results-am_grid__wsj-eval-92__Finetuned_WSJ-greedy_decoder.json\n"
     ]
    }
   ],
   "source": [
    "! python /tmp/nemo_asr_app/tools/NeMo/jasper_eval.py --load_dir=/tmp/nemo_asr_app/models/wsj_finetuned --model_config=/data/results/config_files/WSJ-test_acoustic_quartznet15x5.yaml --batch_size=32 --amp_opt_level=O1 --save_results=/data/results/inferences/WSJ-test --eval_datasets=/data/datasets/wsj-eval-92.json --model_id=Finetuned_WSJ-greedy_decoder"
   ]
  },
  {
   "cell_type": "markdown",
   "metadata": {},
   "source": [
    "## 4.4 Inference with Fine-tuned model and Language Model"
   ]
  },
  {
   "cell_type": "markdown",
   "metadata": {},
   "source": [
    "### 4.4.1 Modify inference parameters\n",
    "\n",
    "In this section we **need to** set the LM parameters to enable inference with the beam-search decoder, specifically the trained LM model.\n",
    "\n",
    "The parameters to change are:\n",
    "- `lm_path`: Pointing to the `binary` file of the LM model you wish to use. The function `project.get_path_to_lm()` will return the path project's language model.\n",
    "- `beam_width`: determining how many prefixes (beams) will be selected at each timestep.\n",
    "- `alpha`: the weight of the language model.\n",
    "- `beta`: compensation term or word insertion weight. Required to control length of candidates (balance number of words)."
   ]
  },
  {
   "cell_type": "code",
   "execution_count": 23,
   "metadata": {},
   "outputs": [
    {
     "data": {
      "text/plain": [
       "{'load_dir': '/tmp/nemo_asr_app/models/wsj_finetuned',\n",
       " 'model_config': '/data/results/config_files/WSJ-test_acoustic_quartznet15x5.yaml',\n",
       " 'batch_size': 32,\n",
       " 'amp_opt_level': 'O1',\n",
       " 'save_results': '/data/results/inferences/WSJ-test',\n",
       " 'lm_path': '/tmp/nemo_asr_app/models/lm/WSJ_lm.binary',\n",
       " 'beam_width': 200,\n",
       " 'alpha': 3.0,\n",
       " 'beta': 0.1}"
      ]
     },
     "execution_count": 23,
     "metadata": {},
     "output_type": "execute_result"
    }
   ],
   "source": [
    "# Fintuned Acoustic model\n",
    "project.manifest.inference_params.load_dir = os.path.join(os.environ['APP_DIR'], 'models', 'wsj_finetuned') \n",
    "\n",
    "# Inference with language model\n",
    "# We provide the language model inside the models folder\n",
    "project.manifest.inference_params.lm_path = os.path.join(os.environ['APP_DIR'], 'models', 'lm', 'WSJ_lm.binary') \n",
    "\n",
    "# But if you trained the language model, the path is available at project.get_path_to_lm()\n",
    "#project.manifest.inference_params.lm_path =  project.get_path_to_lm()\n",
    "\n",
    "# beam parameters\n",
    "project.manifest.inference_params.beam_width = 200\n",
    "project.manifest.inference_params.alpha = 3.0\n",
    "project.manifest.inference_params.beta = 0.1\n",
    "\n",
    "# other parameters\n",
    "project.manifest.inference_params.batch_size = 32\n",
    "project.manifest.inference_params.amp_opt_level = 'O1'\n",
    "\n",
    "project.save_manifest()\n",
    "project.manifest.inference_params"
   ]
  },
  {
   "cell_type": "markdown",
   "metadata": {},
   "source": [
    "### 4.4.2 Generate Inference Command\n",
    "We generate the inference command using the manifest configurations."
   ]
  },
  {
   "cell_type": "code",
   "execution_count": 24,
   "metadata": {},
   "outputs": [
    {
     "name": "stdout",
     "output_type": "stream",
     "text": [
      "! python /tmp/nemo_asr_app/tools/NeMo/jasper_eval.py --load_dir=/tmp/nemo_asr_app/models/wsj_finetuned --model_config=/data/results/config_files/WSJ-test_acoustic_quartznet15x5.yaml --batch_size=32 --amp_opt_level=O1 --save_results=/data/results/inferences/WSJ-test --lm_path=/tmp/nemo_asr_app/models/lm/WSJ_lm.binary --beam_width=200 --alpha=3.0 --beta=0.1 --eval_datasets=/data/datasets/wsj-eval-92.json --model_id=Finetuned-WSJ-LM-WSJ\n"
     ]
    }
   ],
   "source": [
    "# Model Id - We use this to identify the results of this model\n",
    "model_id = \"Finetuned-WSJ-LM-WSJ\"\n",
    "\n",
    "# Inference with Fine-tuned acoustic model and language model\n",
    "lm_infer_cmd = project.get_inference_cmd(model_id=model_id)\n",
    "print(\"! \"+ lm_infer_cmd)"
   ]
  },
  {
   "cell_type": "markdown",
   "metadata": {},
   "source": [
    "### 4.4.3 Run Inference with Finetuned Model with Language Model\n",
    "To run inference, copy the command generated above and paste below."
   ]
  },
  {
   "cell_type": "code",
   "execution_count": 25,
   "metadata": {},
   "outputs": [
    {
     "name": "stdout",
     "output_type": "stream",
     "text": [
      "/opt/conda/lib/python3.6/site-packages/nemo/collections/asr/audio_preprocessing.py:48: UserWarning: Could not import torchaudio. Some features might not work.\n",
      "  warnings.warn('Could not import torchaudio. Some features might not work.')\n",
      "[NeMo I 2020-04-09 22:22:58 collections:138] Dataset loaded with 333 files totalling 0.71 hours\n",
      "[NeMo I 2020-04-09 22:22:58 collections:139] 0 files were filtered totalling 0.00 hours\n",
      "[NeMo I 2020-04-09 22:22:58 jasper_eval:109] Evaluating 333 examples\n",
      "[NeMo I 2020-04-09 22:22:58 features:144] PADDING: 16\n",
      "[NeMo I 2020-04-09 22:22:58 features:152] STFT using conv\n",
      "[NeMo I 2020-04-09 22:23:00 jasper_eval:122] ================================\n",
      "[NeMo I 2020-04-09 22:23:00 jasper_eval:124] Number of parameters in encoder: 18894656\n",
      "[NeMo I 2020-04-09 22:23:00 jasper_eval:126] Number of parameters in decoder: 29725\n",
      "[NeMo I 2020-04-09 22:23:00 jasper_eval:128] Total number of parameters: 18924381\n",
      "[NeMo I 2020-04-09 22:23:00 jasper_eval:130] ================================\n",
      "[NeMo I 2020-04-09 22:23:00 actions:1454] Restoring JasperEncoder from /tmp/nemo_asr_app/models/wsj_finetuned/JasperEncoder-STEP-174000.pt\n",
      "[NeMo I 2020-04-09 22:23:00 actions:1454] Restoring JasperDecoderForCTC from /tmp/nemo_asr_app/models/wsj_finetuned/JasperDecoderForCTC-STEP-174000.pt\n",
      "Selected optimization level O1:  Insert automatic casts around Pytorch functions and Tensor methods.\n",
      "\n",
      "Defaults for this optimization level are:\n",
      "enabled                : True\n",
      "opt_level              : O1\n",
      "cast_model_type        : None\n",
      "patch_torch_functions  : True\n",
      "keep_batchnorm_fp32    : None\n",
      "master_weights         : None\n",
      "loss_scale             : dynamic\n",
      "Processing user overrides (additional kwargs that are not None)...\n",
      "After processing overrides, optimization options are:\n",
      "enabled                : True\n",
      "opt_level              : O1\n",
      "cast_model_type        : None\n",
      "patch_torch_functions  : True\n",
      "keep_batchnorm_fp32    : None\n",
      "master_weights         : None\n",
      "loss_scale             : dynamic\n",
      "[NeMo I 2020-04-09 22:23:01 actions:728] Evaluating batch 0 out of 11\n",
      "[NeMo I 2020-04-09 22:23:02 actions:728] Evaluating batch 1 out of 11\n",
      "[NeMo I 2020-04-09 22:23:03 actions:728] Evaluating batch 2 out of 11\n",
      "[NeMo I 2020-04-09 22:23:03 actions:728] Evaluating batch 3 out of 11\n",
      "[NeMo I 2020-04-09 22:23:03 actions:728] Evaluating batch 4 out of 11\n",
      "[NeMo I 2020-04-09 22:23:03 actions:728] Evaluating batch 5 out of 11\n",
      "[NeMo I 2020-04-09 22:23:04 actions:728] Evaluating batch 6 out of 11\n",
      "[NeMo I 2020-04-09 22:23:04 actions:728] Evaluating batch 7 out of 11\n",
      "[NeMo I 2020-04-09 22:23:04 actions:728] Evaluating batch 8 out of 11\n",
      "[NeMo I 2020-04-09 22:23:04 actions:728] Evaluating batch 9 out of 11\n",
      "[NeMo I 2020-04-09 22:23:05 actions:728] Evaluating batch 10 out of 11\n",
      "[NeMo I 2020-04-09 22:23:05 jasper_eval:158] Greedy WER 4.52%\n",
      "[NeMo I 2020-04-09 22:23:05 jasper_eval:176] ================================\n",
      "[NeMo I 2020-04-09 22:23:05 jasper_eval:177] Infering with (alpha, beta): (3.0, 0.1)\n",
      "[NeMo I 2020-04-09 22:23:16 jasper_eval:202] Beam WER 2.20%\n",
      "[NeMo I 2020-04-09 22:23:16 jasper_eval:205] Beam WER for (alpha, beta)\n",
      "[NeMo I 2020-04-09 22:23:16 jasper_eval:206] ================================\n",
      "[NeMo I 2020-04-09 22:23:16 jasper_eval:207] \n",
      "    ((3.0, 0.1), 2.197412723728513)\n",
      "[NeMo I 2020-04-09 22:23:16 jasper_eval:208] ================================\n",
      "[NeMo I 2020-04-09 22:23:16 jasper_eval:210] Best (alpha, beta): (3.0, 0.1), WER: 2.20%\n",
      "[NeMo I 2020-04-09 22:23:16 jasper_eval:241] Saving inference results to /data/results/inferences/WSJ-test/results-lm_grid__wsj-eval-92__Finetuned-WSJ-LM-WSJ.json\n"
     ]
    }
   ],
   "source": [
    "! python /tmp/nemo_asr_app/tools/NeMo/jasper_eval.py --load_dir=/tmp/nemo_asr_app/models/wsj_finetuned --model_config=/data/results/config_files/WSJ-test_acoustic_quartznet15x5.yaml --batch_size=32 --amp_opt_level=O1 --save_results=/data/results/inferences/WSJ-test --lm_path=/tmp/nemo_asr_app/models/lm/WSJ_lm.binary --beam_width=200 --alpha=3.0 --beta=0.1 --eval_datasets=/data/datasets/wsj-eval-92.json --model_id=Finetuned-WSJ-LM-WSJ"
   ]
  },
  {
   "cell_type": "markdown",
   "metadata": {},
   "source": [
    "# 5. Models Comparison\n",
    "Next, we compare the Word Error Rates for both the fine-tuned model and pre-trained model."
   ]
  },
  {
   "cell_type": "markdown",
   "metadata": {},
   "source": [
    "## 5.1 Add Inference results to manifest\n",
    "We first add the results from our inference runs to the project's manifest."
   ]
  },
  {
   "cell_type": "code",
   "execution_count": 26,
   "metadata": {},
   "outputs": [
    {
     "name": "stdout",
     "output_type": "stream",
     "text": [
      "Added results for model Pretrained-greedy_decoder - /data/datasets/wsj-eval-92.json.\n",
      "Added results for model Finetuned_WSJ-greedy_decoder - /data/datasets/wsj-eval-92.json.\n",
      "Added results for model Finetuned-WSJ-LM-WSJ - /data/datasets/wsj-eval-92.json.\n",
      "['/data/datasets/wsj-eval-92.json']\n"
     ]
    }
   ],
   "source": [
    "project.add_inference_results()\n",
    "inferences_all = list(project.manifest.inference.keys())\n",
    "inferences_all.sort()\n",
    "print(inferences_all)"
   ]
  },
  {
   "cell_type": "markdown",
   "metadata": {},
   "source": [
    "## 5.2 Word Error Rate Comparison\n",
    "We plot WER performance of eval dataset and we also select the performance metric we wish to sort by.\n",
    "\n",
    "Note, if `lm_wer` is present we chose that value over the `wer` value."
   ]
  },
  {
   "cell_type": "code",
   "execution_count": 27,
   "metadata": {},
   "outputs": [
    {
     "data": {
      "text/plain": [
       "{'Pretrained-greedy_decoder': {'wer': 0.10012404749246855,\n",
       "  'path': '/data/results/inferences/WSJ-test/results-am_grid__wsj-eval-92__Pretrained-greedy_decoder.json',\n",
       "  'lm_wer': None},\n",
       " 'Finetuned_WSJ-greedy_decoder': {'wer': 0.045188729399255716,\n",
       "  'path': '/data/results/inferences/WSJ-test/results-am_grid__wsj-eval-92__Finetuned_WSJ-greedy_decoder.json',\n",
       "  'lm_wer': None},\n",
       " 'Finetuned-WSJ-LM-WSJ': {'wer': 0.045188729399255716,\n",
       "  'path': '/data/results/inferences/WSJ-test/results-lm_grid__wsj-eval-92__Finetuned-WSJ-LM-WSJ.json',\n",
       "  'lm_wer': 0.021974127237285132}}"
      ]
     },
     "execution_count": 27,
     "metadata": {},
     "output_type": "execute_result"
    }
   ],
   "source": [
    "sel_inference = project.manifest.inference[inferences_all[0]]\n",
    "sel_inference"
   ]
  },
  {
   "cell_type": "code",
   "execution_count": 28,
   "metadata": {},
   "outputs": [
    {
     "name": "stdout",
     "output_type": "stream",
     "text": [
      "/data/datasets/wsj-eval-92.json\n"
     ]
    },
    {
     "data": {
      "text/html": [
       "<div>\n",
       "<style scoped>\n",
       "    .dataframe tbody tr th:only-of-type {\n",
       "        vertical-align: middle;\n",
       "    }\n",
       "\n",
       "    .dataframe tbody tr th {\n",
       "        vertical-align: top;\n",
       "    }\n",
       "\n",
       "    .dataframe thead th {\n",
       "        text-align: right;\n",
       "    }\n",
       "</style>\n",
       "<table border=\"1\" class=\"dataframe\">\n",
       "  <thead>\n",
       "    <tr style=\"text-align: right;\">\n",
       "      <th></th>\n",
       "      <th>inference_types</th>\n",
       "      <th>lm_wer</th>\n",
       "      <th>wer</th>\n",
       "      <th>percentWER</th>\n",
       "    </tr>\n",
       "  </thead>\n",
       "  <tbody>\n",
       "    <tr>\n",
       "      <th>2</th>\n",
       "      <td>Finetuned-WSJ-LM-WSJ</td>\n",
       "      <td>0.021974</td>\n",
       "      <td>0.045189</td>\n",
       "      <td>2.197413</td>\n",
       "    </tr>\n",
       "    <tr>\n",
       "      <th>1</th>\n",
       "      <td>Finetuned_WSJ-greedy_decoder</td>\n",
       "      <td>NaN</td>\n",
       "      <td>0.045189</td>\n",
       "      <td>4.518873</td>\n",
       "    </tr>\n",
       "    <tr>\n",
       "      <th>0</th>\n",
       "      <td>Pretrained-greedy_decoder</td>\n",
       "      <td>NaN</td>\n",
       "      <td>0.100124</td>\n",
       "      <td>10.012405</td>\n",
       "    </tr>\n",
       "  </tbody>\n",
       "</table>\n",
       "</div>"
      ],
      "text/plain": [
       "                inference_types    lm_wer       wer  percentWER\n",
       "2          Finetuned-WSJ-LM-WSJ  0.021974  0.045189    2.197413\n",
       "1  Finetuned_WSJ-greedy_decoder       NaN  0.045189    4.518873\n",
       "0     Pretrained-greedy_decoder       NaN  0.100124   10.012405"
      ]
     },
     "execution_count": 28,
     "metadata": {},
     "output_type": "execute_result"
    }
   ],
   "source": [
    "sort_metric = 'percentWER'\n",
    "# Note if you wish to plot (and parse) only a specific set of models you can use the argument 'keep' and \n",
    "# list the model_id(s) you wish to keep.\n",
    "df = parse_manifest_wer(sel_inference, sort_metric=sort_metric)\n",
    "                           \n",
    "print(inferences_all[0])\n",
    "df"
   ]
  },
  {
   "cell_type": "markdown",
   "metadata": {},
   "source": [
    "We use the dataframe created by the `parse_manifest_wer` function to plot the performance of the different models.\n",
    "We use the function `barplot_manifest` that has the arguments `([dataframe],[metric to plot],[title],[xlabel],[ylabel])`."
   ]
  },
  {
   "cell_type": "code",
   "execution_count": 29,
   "metadata": {},
   "outputs": [
    {
     "data": {
      "image/png": "[encoded data removed]",
      "text/plain": [
       "<Figure size 1440x648 with 1 Axes>"
      ]
     },
     "metadata": {
      "needs_background": "light"
     },
     "output_type": "display_data"
    }
   ],
   "source": [
    "%matplotlib inline\n",
    "wer = barplot_manifest(df,'percentWER',\"Word Error Rate\", \"Inference type\",\"Percent %\")"
   ]
  },
  {
   "cell_type": "markdown",
   "metadata": {},
   "source": [
    "## 5.3 Performance improvement"
   ]
  },
  {
   "cell_type": "code",
   "execution_count": 30,
   "metadata": {},
   "outputs": [],
   "source": [
    "df.set_index('inference_types', inplace=True)"
   ]
  },
  {
   "cell_type": "code",
   "execution_count": 31,
   "metadata": {},
   "outputs": [],
   "source": [
    "org = df.loc['Pretrained-greedy_decoder','wer'] # pre-trained model\n",
    "new = df.loc['Finetuned-WSJ-LM-WSJ','lm_wer'] # fine-tuned am and lm model"
   ]
  },
  {
   "cell_type": "code",
   "execution_count": 32,
   "metadata": {},
   "outputs": [
    {
     "name": "stdout",
     "output_type": "stream",
     "text": [
      "Decreased WER by 78.05%\n"
     ]
    }
   ],
   "source": [
    "per_decrease = 100*((org-new)/org)\n",
    "print(\"Decreased WER by {0:.2f}%\".format(per_decrease))"
   ]
  },
  {
   "cell_type": "markdown",
   "metadata": {},
   "source": [
    "# 6. Model Deployment\n",
    "Now that you have created SOTA performance for your domain, you are ready to export your model to be deployed. \n",
    "\n",
    "The process to follow is:\n",
    "1. [NeMo](https://github.com/NVIDIA/NeMo) checkpoint -> ONNX\n",
    "2. ONNX -> [NVIDIA TensorRT](https://developer.nvidia.com/tensorrt)\n",
    "\n",
    "After this process you will be ready to deploy your optimized model with [NVIDIA Jarvis]( https://developer.nvidia.com/nvidia-jarvis) or [TensorRT Inference Server](https://devblogs.nvidia.com/nvidia-serves-deep-learning-inference/).\n",
    "\n",
    "Definitions:\n",
    "- **ONNX** is a standard for representing deep learning models enabling them to be transferred between frameworks.\n",
    "- **TensorRT** enables the network to be compressed, optimized and deployed as a runtime without the overhead of a framework.\n",
    "- **NVIDIA Jarvis** is an SDK for building and deploying AI applications that fuse vision, speech and other sensors.\n",
    "- **NVIDIA TensortRT Inference Server** is an inference microservice for data center production that maximizes GPU utilization and seamlessly integrates into DevOps deployments with Docker and Kubernetes integration."
   ]
  },
  {
   "cell_type": "markdown",
   "metadata": {},
   "source": [
    "## 6.1 NeMo model checkpoints to ONNX\n",
    "This process will convert the `.pt` model checkpoints into `onnx` format. After you run this process you should have two .onnx files - one for the encoder and one for the decoder."
   ]
  },
  {
   "cell_type": "code",
   "execution_count": 33,
   "metadata": {},
   "outputs": [
    {
     "name": "stdout",
     "output_type": "stream",
     "text": [
      "Exporting fine-tuned model\n",
      "Encoder: /tmp/nemo_asr_app/models/wsj_finetuned/JasperEncoder-STEP-174000.pt\n",
      "Decoder /tmp/nemo_asr_app/models/wsj_finetuned/JasperDecoderForCTC-STEP-174000.pt\n"
     ]
    }
   ],
   "source": [
    "pretrained = False\n",
    "if pretrained:\n",
    "    # pre-trained model\n",
    "    config = project.manifest.am.train_params.model_config\n",
    "    encoder = project.manifest.am.train_params.load_encoder\n",
    "    decoder = project.manifest.am.train_params.load_decoder\n",
    "    onnx_encoder = os.path.join(cfg.MODEL.ONNX_MODELS,\"pre-trained_encoder.onnx\")\n",
    "    onnx_decoder = os.path.join(cfg.MODEL.ONNX_MODELS,\"pre-trained_decoder.onnx\")\n",
    "    print(\"Exporting pre-trained model\")\n",
    "    print(\"Encoder:\", encoder)\n",
    "    print(\"Decoder\", decoder)\n",
    "else:\n",
    "    # fine-tuned model\n",
    "    config = project.manifest.am.train_params.model_config\n",
    "    # if you wish to use the finetuned model you can use the encoder and decoder in: \n",
    "    # project.manifest.am.finetuned_model_path\n",
    "    encoder = os.path.join(cfg.NEMO.WSJ_FINETUNED,\"JasperEncoder-STEP-174000.pt\")\n",
    "    decoder = os.path.join(cfg.NEMO.WSJ_FINETUNED, \"JasperDecoderForCTC-STEP-174000.pt\")\n",
    "    onnx_encoder = os.path.join(cfg.MODEL.ONNX_MODELS,\"finetuned_encoder.onnx\")\n",
    "    onnx_decoder = os.path.join(cfg.MODEL.ONNX_MODELS,\"finetuned_decoder.onnx\")\n",
    "    print(\"Exporting fine-tuned model\")\n",
    "    print(\"Encoder:\", encoder)\n",
    "    print(\"Decoder\", decoder)"
   ]
  },
  {
   "cell_type": "code",
   "execution_count": 34,
   "metadata": {},
   "outputs": [
    {
     "name": "stdout",
     "output_type": "stream",
     "text": [
      "! python /workspace/nemo/scripts/export_jasper_to_onnx.py --config /data/results/config_files/WSJ-test_acoustic_quartznet15x5.yaml --nn_encoder /tmp/nemo_asr_app/models/wsj_finetuned/JasperEncoder-STEP-174000.pt --nn_decoder /tmp/nemo_asr_app/models/wsj_finetuned/JasperDecoderForCTC-STEP-174000.pt --onnx_encoder /data/results/models/ONNX/finetuned_encoder.onnx --onnx_decoder /data/results/models/ONNX/finetuned_decoder.onnx\n"
     ]
    }
   ],
   "source": [
    "onnx_cmd = get_onnx_cmd(config, encoder, decoder, onnx_encoder, onnx_decoder)\n",
    "print(\"! \" + onnx_cmd)"
   ]
  },
  {
   "cell_type": "markdown",
   "metadata": {},
   "source": [
    "## 6.2 ONNX to TRT\n",
    "Next, we convert the ONNX model files to TensorRT to enable inference optimization that delivers low latency and high-throughput. In this process you are generating an engine that is optimized for a target platform.\n",
    "\n",
    "Note: You must convert both the Encoder and Decoder files. \n",
    "Learn more at: https://developer.nvidia.com/tensorrt\n",
    "\n",
    "Since the optimization is platform specific, if you wish to modify the model export parameters, look at the script: `/tmp/NeMo/scripts/export_jasper_onnx_to_trt.py`"
   ]
  },
  {
   "cell_type": "markdown",
   "metadata": {},
   "source": [
    "### 6.2.1 Convert Decoder\n",
    "Run the following command to export the ONNX Decoder model to TensorRT."
   ]
  },
  {
   "cell_type": "code",
   "execution_count": 35,
   "metadata": {},
   "outputs": [
    {
     "name": "stdout",
     "output_type": "stream",
     "text": [
      "! python /workspace/nemo/scripts/export_jasper_onnx_to_trt.py /data/results/models/ONNX/finetuned_decoder.onnx /data/results/models/TRT/finetuned_decoder_trt_plan.engine\n"
     ]
    }
   ],
   "source": [
    "# decoder\n",
    "onnx_path = onnx_decoder\n",
    "if pretrained:\n",
    "    trt_plan = os.path.join(cfg.MODEL.TRT_MODELS,\"pre-trained_decoder_trt_plan.engine\")\n",
    "else:\n",
    "    # fine-tuned model\n",
    "    trt_plan = os.path.join(cfg.MODEL.TRT_MODELS,\"finetuned_decoder_trt_plan.engine\")\n",
    "trt_cmd = get_onnx_trt_cmd(onnx_path, trt_plan)\n",
    "print(\"! \" + trt_cmd)"
   ]
  },
  {
   "cell_type": "markdown",
   "metadata": {},
   "source": [
    "### 6.2.1 Convert Encoder\n",
    "Run the following command to export the ONNX Encoder model to TensorRT."
   ]
  },
  {
   "cell_type": "code",
   "execution_count": 36,
   "metadata": {},
   "outputs": [
    {
     "name": "stdout",
     "output_type": "stream",
     "text": [
      "! python /workspace/nemo/scripts/export_jasper_onnx_to_trt.py /data/results/models/ONNX/finetuned_encoder.onnx /data/results/models/TRT/finetuned_encoder_trt_plan.engine\n"
     ]
    }
   ],
   "source": [
    "# encoder\n",
    "onnx_path = onnx_encoder\n",
    "if pretrained:\n",
    "    trt_plan = os.path.join(cfg.MODEL.TRT_MODELS,\"pre-trained_encoder_trt_plan.engine\")\n",
    "else:\n",
    "    # fine-tuned model\n",
    "    trt_plan = os.path.join(cfg.MODEL.TRT_MODELS,\"finetuned_encoder_trt_plan.engine\")\n",
    "trt_cmd = get_onnx_trt_cmd(onnx_path, trt_plan)\n",
    "print(\"! \" + trt_cmd)"
   ]
  },
  {
   "cell_type": "code",
   "execution_count": null,
   "metadata": {},
   "outputs": [],
   "source": []
  }
 ],
 "metadata": {
  "kernelspec": {
   "display_name": "Python 3",
   "language": "python",
   "name": "python3"
  },
  "language_info": {
   "codemirror_mode": {
    "name": "ipython",
    "version": 3
   },
   "file_extension": ".py",
   "mimetype": "text/x-python",
   "name": "python",
   "nbconvert_exporter": "python",
   "pygments_lexer": "ipython3",
   "version": "3.6.9"
  },
  "toc-autonumbering": false,
  "toc-showcode": false,
  "toc-showmarkdowntxt": false
 },
 "nbformat": 4,
 "nbformat_minor": 4
}
